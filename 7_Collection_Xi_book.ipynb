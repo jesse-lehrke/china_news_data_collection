{
 "cells": [
  {
   "cell_type": "markdown",
   "metadata": {},
   "source": [
    "## Xi book"
   ]
  },
  {
   "cell_type": "markdown",
   "metadata": {},
   "source": [
    "This script creates a dataframe of Chinese President Xi's book organized by section. \n",
    "Thus it is more of a one time used script to create data which can then be used for NLP tasks."
   ]
  },
  {
   "cell_type": "code",
   "execution_count": 1,
   "metadata": {},
   "outputs": [],
   "source": [
    "import pandas as pd\n",
    "\n",
    "import bs4\n",
    "from bs4 import BeautifulSoup as soup\n",
    "\n",
    "from urllib.request import urlopen as uReq\n",
    "import urllib.request\n",
    "\n",
    "import time\n",
    "from lxml import etree\n",
    "# install lxml and prereqs, note - doing this after creation of venv has given me issues, just remake venv"
   ]
  },
  {
   "cell_type": "code",
   "execution_count": 2,
   "metadata": {},
   "outputs": [],
   "source": [
    "base_url = 'https://www.12371.cn/special/blqs/xjptzglz/'"
   ]
  },
  {
   "cell_type": "code",
   "execution_count": null,
   "metadata": {},
   "outputs": [],
   "source": [
    "# Get's sections and their urls from the main home page\n",
    "section_name = []\n",
    "url_list = []\n",
    "\n",
    "page = urllib.request.Request(base_url, headers={'User-Agent': 'Mozilla/5.0'}) #being a bit lazy here\n",
    "\n",
    "uClient = uReq(page)\n",
    "page_html = uClient.read()\n",
    "uClient.close()\n",
    "\n",
    "page_soup = soup(page_html, 'lxml')\n",
    "\n",
    "result_list = page_soup.find_all('li', class_= 'zdy')\n",
    "\n",
    "for result in result_list:\n",
    "      urls = result.find_all('a') \n",
    "\n",
    "      for u in urls:\n",
    "            #print(u.text)\n",
    "            section_name.append(u.text)\n",
    "            #print(u['href'])\n",
    "            url_list.append(u['href'])\n",
    "\n",
    "      print(\"Sections to be collected: \" + str(len(section_name)))"
   ]
  },
  {
   "cell_type": "code",
   "execution_count": null,
   "metadata": {},
   "outputs": [],
   "source": [
    "df = pd.DataFrame({'section': section_name, 'url': url_list})\n",
    "df.head()"
   ]
  },
  {
   "cell_type": "code",
   "execution_count": null,
   "metadata": {},
   "outputs": [],
   "source": [
    "# Get actual content\n",
    "\n",
    "url_list = []\n",
    "section_list = []\n",
    "text_list = []\n",
    "title_list = []\n",
    "date_list = []\n",
    "\n",
    "for index, row in df.iterrows():\n",
    "    print('Scraping ' + str(index +1) + ' of ' + str(len(section_name)))\n",
    "    url_list.append(row.url)\n",
    "    section_list.append(row.section)\n",
    "\n",
    "    page = urllib.request.Request(row.url, headers={'User-Agent': 'Mozilla/5.0'}) \n",
    "\n",
    "    uClient = uReq(page)\n",
    "    page_html = uClient.read()\n",
    "    uClient.close()\n",
    "\n",
    "    page_soup = soup(page_html, 'lxml')\n",
    "\n",
    "    text = page_soup.find('div', {'class': 'word'})\n",
    "    text_list.append(text.text)\n",
    "   \n",
    "    title = page_soup.find('h1') #('h1', {'class': 'big_title'})\n",
    "    title_list.append(title.text)\n",
    "\n",
    "    date = page_soup.find('h2', {'class': 'small_title'})\n",
    "    date_list.append(date.text)\n",
    "\n",
    "    time.sleep(5)\n",
    "\n",
    "print('Done')"
   ]
  },
  {
   "cell_type": "code",
   "execution_count": 6,
   "metadata": {},
   "outputs": [],
   "source": [
    "df = pd.DataFrame({'section': section_name, \n",
    "                  'url': url_list,\n",
    "                  'title': title_list,\n",
    "                  'date': date_list,\n",
    "                  'text': text_list,\n",
    "                  })"
   ]
  },
  {
   "cell_type": "code",
   "execution_count": null,
   "metadata": {},
   "outputs": [],
   "source": [
    "df.head(5)"
   ]
  },
  {
   "cell_type": "code",
   "execution_count": 10,
   "metadata": {},
   "outputs": [],
   "source": [
    "df.to_csv('./DATA/xi_book.csv', index=False)"
   ]
  }
 ],
 "metadata": {
  "interpreter": {
   "hash": "73afed2e6e5cae272ca1e451939a06651cb7194d426a79bc157d2d09ec23572e"
  },
  "kernelspec": {
   "display_name": "Python 3.9.2 ('sab22_venv': venv)",
   "language": "python",
   "name": "python3"
  },
  "language_info": {
   "codemirror_mode": {
    "name": "ipython",
    "version": 3
   },
   "file_extension": ".py",
   "mimetype": "text/x-python",
   "name": "python",
   "nbconvert_exporter": "python",
   "pygments_lexer": "ipython3",
   "version": "3.11.10"
  },
  "orig_nbformat": 4
 },
 "nbformat": 4,
 "nbformat_minor": 2
}
