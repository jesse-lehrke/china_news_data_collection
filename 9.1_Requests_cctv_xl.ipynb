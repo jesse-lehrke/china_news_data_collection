{
 "cells": [
  {
   "attachments": {},
   "cell_type": "markdown",
   "metadata": {},
   "source": [
    "# Get direct URLs from CCTV site"
   ]
  },
  {
   "cell_type": "markdown",
   "metadata": {},
   "source": [
    "Script collects only urls of all CCTV Xinwen Lianbo episodes between two dates for later scraping"
   ]
  },
  {
   "cell_type": "code",
   "execution_count": 1,
   "metadata": {},
   "outputs": [],
   "source": [
    "import requests\n",
    "from bs4 import BeautifulSoup as soup\n",
    "from dateutil import rrule\n",
    "from datetime import datetime\n",
    "import pandas as pd"
   ]
  },
  {
   "cell_type": "code",
   "execution_count": 2,
   "metadata": {},
   "outputs": [],
   "source": [
    "# Creating all dates between two dates\n",
    "\n",
    "dates = []\n",
    "\n",
    "a = '20240109' #YYYYMMDD\n",
    "b = '20240112'\n",
    "\n",
    "for dt in rrule.rrule(rrule.DAILY,\n",
    "                      dtstart=datetime.strptime(a, '%Y%m%d'),\n",
    "                      until=datetime.strptime(b, '%Y%m%d')):\n",
    "    dates.append(dt.strftime('%Y%m%d'))\n",
    "    #print(dt.strftime('%Y%m%d'))"
   ]
  },
  {
   "cell_type": "code",
   "execution_count": null,
   "metadata": {},
   "outputs": [],
   "source": [
    "dates"
   ]
  },
  {
   "cell_type": "code",
   "execution_count": 4,
   "metadata": {},
   "outputs": [],
   "source": [
    "# Header\n",
    "\n",
    "header = {\n",
    "    'Host': \"tv.cctv.com\",\n",
    "    'User-Agent': \"Mozilla/5.0 (Windows NT 10.0; rv:78.0) Gecko/20100101 Firefox/91.0\",\n",
    "    'Accept': \"text/html, */*; q=0.01\",\n",
    "    'Accept-Language': \"en-US,en;q=0.5\",\n",
    "    'Accept-Encoding': \"gzip, deflate, br\",\n",
    "    'X-Requested-With': 'XMLHttpRequest',\n",
    "    'DNT': \"1\",\n",
    "    'Connection': \"keep-alive\",\n",
    "    'Referer': 'https://tv.cctv.com/lm/xwlb/',\n",
    "    'Sec-Fetch-Dest': 'empty',\n",
    "    'Sec-Fetch-Mode': 'cors',\n",
    "    'Sec-Fetch-Site': 'same-origin',\n",
    "    'TE': 'trailers',\n",
    "}"
   ]
  },
  {
   "cell_type": "code",
   "execution_count": 5,
   "metadata": {},
   "outputs": [],
   "source": [
    "# Url parts\n",
    "\n",
    "base_url = \"https://tv.cctv.com/lm/xwlb/day/\"\n",
    "#date_url = \"20220202\" #20211214 ## for testing\n",
    "closing_url = \".shtml\""
   ]
  },
  {
   "cell_type": "code",
   "execution_count": 6,
   "metadata": {},
   "outputs": [],
   "source": [
    "# List to save items to\n",
    "\n",
    "url_list = []"
   ]
  },
  {
   "cell_type": "code",
   "execution_count": 7,
   "metadata": {},
   "outputs": [],
   "source": [
    "# Main collection\n",
    "\n",
    "for date in dates:\n",
    "    final_url = base_url + date + closing_url\n",
    "    response = requests.post(final_url, headers=header)\n",
    "\n",
    "    html = soup(response.text, 'html.parser')\n",
    "\n",
    "    url = html.find('a')\n",
    "    url_list.append(url['href'])"
   ]
  },
  {
   "cell_type": "code",
   "execution_count": null,
   "metadata": {},
   "outputs": [],
   "source": [
    "# Check list\n",
    "\n",
    "url_list"
   ]
  },
  {
   "cell_type": "code",
   "execution_count": null,
   "metadata": {},
   "outputs": [],
   "source": [
    "# To Dataframe\n",
    "\n",
    "df = pd.DataFrame(url_list, columns = ['url'])\n",
    "\n",
    "df.head()"
   ]
  },
  {
   "cell_type": "code",
   "execution_count": 10,
   "metadata": {},
   "outputs": [],
   "source": [
    "# Save paths\n",
    "\n",
    "OUTPATH = './DATA/'\n",
    "filename = 'cctv_direct_urls.csv'"
   ]
  },
  {
   "cell_type": "code",
   "execution_count": 11,
   "metadata": {},
   "outputs": [],
   "source": [
    "# Export\n",
    "\n",
    "df.to_csv(OUTPATH + filename, index=False)"
   ]
  }
 ],
 "metadata": {
  "interpreter": {
   "hash": "73afed2e6e5cae272ca1e451939a06651cb7194d426a79bc157d2d09ec23572e"
  },
  "kernelspec": {
   "display_name": "Python 3.9.2 64-bit ('sab22_venv': venv)",
   "language": "python",
   "name": "python3"
  },
  "language_info": {
   "codemirror_mode": {
    "name": "ipython",
    "version": 3
   },
   "file_extension": ".py",
   "mimetype": "text/x-python",
   "name": "python",
   "nbconvert_exporter": "python",
   "pygments_lexer": "ipython3",
   "version": "3.11.10"
  },
  "orig_nbformat": 4
 },
 "nbformat": 4,
 "nbformat_minor": 2
}
