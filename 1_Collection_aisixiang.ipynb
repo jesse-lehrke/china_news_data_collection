{
 "cells": [
  {
   "cell_type": "markdown",
   "metadata": {},
   "source": [
    "# Collection from aisixiang.com - political/philosophical scientific articles"
   ]
  },
  {
   "cell_type": "markdown",
   "metadata": {},
   "source": [
    "As of 25 Oct 2024 website has enabled some security and is blocking occassionally. Increased wait times but may want to explore other options too"
   ]
  },
  {
   "cell_type": "markdown",
   "metadata": {},
   "source": [
    "This script was written for mass collection of all articles in given catagories (to train a classifier). It is this not for refined searches, but could be used as the basis for such (in time will look at doing myself)."
   ]
  },
  {
   "cell_type": "code",
   "execution_count": 1,
   "metadata": {},
   "outputs": [],
   "source": [
    "import pandas as pd\n",
    "\n",
    "import bs4\n",
    "from bs4 import BeautifulSoup as soup\n",
    "\n",
    "from urllib.request import urlopen as uReq\n",
    "import urllib.request\n",
    "from fake_useragent import UserAgent\n",
    "\n",
    "import ssl\n",
    "import time\n",
    "import random"
   ]
  },
  {
   "attachments": {},
   "cell_type": "markdown",
   "metadata": {},
   "source": [
    "# Get collection URLS etc"
   ]
  },
  {
   "cell_type": "code",
   "execution_count": 2,
   "metadata": {},
   "outputs": [],
   "source": [
    "ssl._create_default_https_context = ssl._create_unverified_context"
   ]
  },
  {
   "cell_type": "code",
   "execution_count": 3,
   "metadata": {},
   "outputs": [],
   "source": [
    "ua = UserAgent() \n",
    "user_agent = ua.random\n",
    "headers = {'User-Agent': user_agent}"
   ]
  },
  {
   "cell_type": "code",
   "execution_count": 4,
   "metadata": {},
   "outputs": [],
   "source": [
    "base_url = 'https://www.aisixiang.com'\n",
    "search_url = \"/data/search?column=\" #n\n",
    "pagination = '&page=' #n\n",
    "\n",
    "# Note recent structure change as of Oct 2024\n",
    "# General structure (for future expansion of functionality): #https://www.aisixiang.com/data/search?searchfield=&keywords=&column=678"
   ]
  },
  {
   "cell_type": "code",
   "execution_count": 5,
   "metadata": {},
   "outputs": [],
   "source": [
    "# This requires some website recon, maybe make a dict, to make more automatic for end users\n",
    "lanmu_list = ['677', '678', '676', '682', '683', '680', '681', '684', '679', '685', '688', '703', '482'] # econ, socio[1], peda[1]\n",
    "\n",
    "# Just sample, in progress\n",
    "lanmu_dict = { \n",
    "    \"macroeconomics\": \"677\",\n",
    "    \"microeconomics\": \"678\"\n",
    "}\n"
   ]
  },
  {
   "cell_type": "code",
   "execution_count": 6,
   "metadata": {},
   "outputs": [],
   "source": [
    "def make_request(url):\n",
    "    page = urllib.request.Request(url, headers=headers) \n",
    "    uClient = uReq(page)\n",
    "    page_html = uClient.read()\n",
    "    uClient.close()\n",
    "    page_soup = soup(page_html, 'lxml')\n",
    "    return page_soup"
   ]
  },
  {
   "cell_type": "code",
   "execution_count": 7,
   "metadata": {},
   "outputs": [],
   "source": [
    "def get_details(page_soup):\n",
    "\n",
    "    results = page_soup.find('div', class_= 'search_list')\n",
    "    result_list = results.find('ul').find_all('li')\n",
    "    \n",
    "    for result in result_list:\n",
    "        url_title = result.find_all('a')\n",
    "        url_title = url_title[1:]\n",
    "\n",
    "        url = url_title[0]['href']\n",
    "        url = base_url + url\n",
    "        url_list.append(url)\n",
    "\n",
    "        title = url_title[0].text\n",
    "        title_list.append(title)\n",
    "\n",
    "        date = result.find('span').text\n",
    "        date_list.append(date)\n"
   ]
  },
  {
   "cell_type": "code",
   "execution_count": 8,
   "metadata": {},
   "outputs": [],
   "source": [
    "# HTTPError: HTTP Error 429: Too Many Requests\n",
    "# New issue with next cell code: they must have added some limits\n",
    "# I've increased and randomize the wait, but only limited testing"
   ]
  },
  {
   "cell_type": "code",
   "execution_count": 9,
   "metadata": {},
   "outputs": [],
   "source": [
    "# for testing \n",
    "lanmu_list = ['678']\n",
    "lanmu_dict = { \n",
    "    \"microeconomics\": \"678\"\n",
    "}"
   ]
  },
  {
   "cell_type": "code",
   "execution_count": 10,
   "metadata": {},
   "outputs": [],
   "source": [
    "max_date =  '2022-05-06'\n",
    "nap_range = [3,5]"
   ]
  },
  {
   "cell_type": "code",
   "execution_count": 11,
   "metadata": {},
   "outputs": [
    {
     "name": "stdout",
     "output_type": "stream",
     "text": [
      "Searching: microeconomics\n",
      "Pages: 7\n",
      "Searching https://www.aisixiang.com/data/search?column=678&page=1\n",
      "Waiting: 3.0317451541176226\n",
      "Searching https://www.aisixiang.com/data/search?column=678&page=2\n",
      "Oldest date reached\n"
     ]
    }
   ],
   "source": [
    "url_list = []\n",
    "title_list = []\n",
    "date_list = []\n",
    "\n",
    "counter = 1\n",
    "#max_page = 2\n",
    "#for lanmu in lanmu_list:\n",
    "for key, value in lanmu_dict.items():\n",
    "    print('Searching: ' + key)\n",
    "    initial_page = base_url + search_url + value + pagination + str(counter)\n",
    "    page_soup = make_request(initial_page)\n",
    "\n",
    "    #max page\n",
    "    page_list = page_soup.find('div', class_= 'list_page')\n",
    "    n_pages = page_list.find_all('a') \n",
    "    max_page = int(n_pages[-2]['href'].split('=')[-1]) #probably resiliant but might be able to make more robust to changes\n",
    "    print('Pages: ' + str(max_page))\n",
    "\n",
    "    while counter <= max_page:\n",
    "        search_page = base_url + search_url + value + pagination + str(counter)\n",
    "        page_soup = make_request(search_page)\n",
    "        print('Searching ' + search_page)\n",
    "        \n",
    "        get_details(page_soup)\n",
    "        \n",
    "        if date_list[-1] < max_date:\n",
    "            print('Oldest date reached')\n",
    "            break\n",
    "\n",
    "        if counter == max_page:\n",
    "            counter = 0\n",
    "            print('Next catagory ... ')\n",
    "            break\n",
    "        \n",
    "        counter += 1\n",
    "        \n",
    "        nap_time = random.uniform(nap_range[0], nap_range[1])\n",
    "        print('Waiting: ' + str(nap_time))\n",
    "        time.sleep(nap_time)\n",
    "\n",
    "df = pd.DataFrame(list(zip(url_list, date_list, title_list)), columns =['url', 'date', 'title'])"
   ]
  },
  {
   "cell_type": "code",
   "execution_count": 12,
   "metadata": {},
   "outputs": [
    {
     "data": {
      "text/plain": [
       "60"
      ]
     },
     "execution_count": 12,
     "metadata": {},
     "output_type": "execute_result"
    }
   ],
   "source": [
    "len(title_list)"
   ]
  },
  {
   "cell_type": "code",
   "execution_count": 13,
   "metadata": {},
   "outputs": [
    {
     "data": {
      "text/html": [
       "<div>\n",
       "<style scoped>\n",
       "    .dataframe tbody tr th:only-of-type {\n",
       "        vertical-align: middle;\n",
       "    }\n",
       "\n",
       "    .dataframe tbody tr th {\n",
       "        vertical-align: top;\n",
       "    }\n",
       "\n",
       "    .dataframe thead th {\n",
       "        text-align: right;\n",
       "    }\n",
       "</style>\n",
       "<table border=\"1\" class=\"dataframe\">\n",
       "  <thead>\n",
       "    <tr style=\"text-align: right;\">\n",
       "      <th></th>\n",
       "      <th>url</th>\n",
       "      <th>date</th>\n",
       "      <th>title</th>\n",
       "    </tr>\n",
       "  </thead>\n",
       "  <tbody>\n",
       "    <tr>\n",
       "      <th>55</th>\n",
       "      <td>https://www.aisixiang.com/data/132695.html</td>\n",
       "      <td>2022-04-12 23:47</td>\n",
       "      <td>刘平青 李楠竹：领导者的自我沉思：“现在我”、“过去我”和“</td>\n",
       "    </tr>\n",
       "    <tr>\n",
       "      <th>56</th>\n",
       "      <td>https://www.aisixiang.com/data/132694.html</td>\n",
       "      <td>2022-04-12 23:41</td>\n",
       "      <td>刘平青 王雪 史俊熙：城镇化背景下农民工的需求满足程度及其对</td>\n",
       "    </tr>\n",
       "    <tr>\n",
       "      <th>57</th>\n",
       "      <td>https://www.aisixiang.com/data/132693.html</td>\n",
       "      <td>2022-04-12 23:19</td>\n",
       "      <td>刘平青 任昆：领导者的自我沉思：“不知道”“不愿意”和“不能</td>\n",
       "    </tr>\n",
       "    <tr>\n",
       "      <th>58</th>\n",
       "      <td>https://www.aisixiang.com/data/132681.html</td>\n",
       "      <td>2022-04-12 23:04</td>\n",
       "      <td>王雪 刘平青：进城务工人员婚姻家庭亲密关系疏离问题研究</td>\n",
       "    </tr>\n",
       "    <tr>\n",
       "      <th>59</th>\n",
       "      <td>https://www.aisixiang.com/data/132641.html</td>\n",
       "      <td>2022-04-12 00:53</td>\n",
       "      <td>史俊熙 刘平青：北京创业青年：群体特征与发展状况</td>\n",
       "    </tr>\n",
       "  </tbody>\n",
       "</table>\n",
       "</div>"
      ],
      "text/plain": [
       "                                           url              date  \\\n",
       "55  https://www.aisixiang.com/data/132695.html  2022-04-12 23:47   \n",
       "56  https://www.aisixiang.com/data/132694.html  2022-04-12 23:41   \n",
       "57  https://www.aisixiang.com/data/132693.html  2022-04-12 23:19   \n",
       "58  https://www.aisixiang.com/data/132681.html  2022-04-12 23:04   \n",
       "59  https://www.aisixiang.com/data/132641.html  2022-04-12 00:53   \n",
       "\n",
       "                             title  \n",
       "55  刘平青 李楠竹：领导者的自我沉思：“现在我”、“过去我”和“  \n",
       "56  刘平青 王雪 史俊熙：城镇化背景下农民工的需求满足程度及其对  \n",
       "57  刘平青 任昆：领导者的自我沉思：“不知道”“不愿意”和“不能  \n",
       "58     王雪 刘平青：进城务工人员婚姻家庭亲密关系疏离问题研究  \n",
       "59        史俊熙 刘平青：北京创业青年：群体特征与发展状况  "
      ]
     },
     "execution_count": 13,
     "metadata": {},
     "output_type": "execute_result"
    }
   ],
   "source": [
    "df.tail()"
   ]
  },
  {
   "cell_type": "code",
   "execution_count": 14,
   "metadata": {},
   "outputs": [],
   "source": [
    "PATH = './DATA/URLS/'\n",
    "\n",
    "df.to_csv(PATH + 'aisixiang_urls.csv', index = False)"
   ]
  },
  {
   "attachments": {},
   "cell_type": "markdown",
   "metadata": {},
   "source": [
    "# Load here"
   ]
  },
  {
   "cell_type": "code",
   "execution_count": 15,
   "metadata": {},
   "outputs": [],
   "source": [
    "# LOAD\n",
    "PATH = './DATA/URLS/'\n",
    "df = pd.read_csv(PATH + 'aisixiang_urls.csv')"
   ]
  },
  {
   "cell_type": "code",
   "execution_count": 21,
   "metadata": {},
   "outputs": [],
   "source": [
    "# Filtering \n",
    "# I've added in scrape to stop on page where oldest date found, but we till collect full page\n",
    "df = df[df['date'] >= '2023-01-01']"
   ]
  },
  {
   "cell_type": "code",
   "execution_count": 22,
   "metadata": {},
   "outputs": [
    {
     "data": {
      "text/plain": [
       "26"
      ]
     },
     "execution_count": 22,
     "metadata": {},
     "output_type": "execute_result"
    }
   ],
   "source": [
    "len(df)"
   ]
  },
  {
   "attachments": {},
   "cell_type": "markdown",
   "metadata": {},
   "source": [
    "# Get Full Texts"
   ]
  },
  {
   "cell_type": "code",
   "execution_count": null,
   "metadata": {},
   "outputs": [],
   "source": [
    "def connect(index, url):\n",
    "\n",
    "    print('Fetching ' + str(index))\n",
    "    page_soup = make_request(url)        \n",
    "    \n",
    "    nap_time = random.uniform(.2, 1.5)\n",
    "    print('Waiting: ' + str(nap_time))\n",
    "    time.sleep(nap_time)\n",
    "\n",
    "    text = page_soup.find('div', id='content')\n",
    "    text_list.append(text.text) \n",
    "    #counter +=1"
   ]
  },
  {
   "cell_type": "code",
   "execution_count": null,
   "metadata": {},
   "outputs": [],
   "source": [
    "counter = 1\n",
    "text_list = []\n",
    "\n",
    "for index, row in df.iterrows():\n",
    "    try:\n",
    "        connect(index, row.url)\n",
    "    except:\n",
    "        print('Connection error...sleeping for 1 minute')\n",
    "        time.sleep(60)\n",
    "        print('Retrying...')\n",
    "        connect(index, row.url)\n",
    "\n",
    "print(len(text_list))"
   ]
  },
  {
   "cell_type": "code",
   "execution_count": null,
   "metadata": {},
   "outputs": [],
   "source": [
    "df['text'] = text_list "
   ]
  },
  {
   "cell_type": "code",
   "execution_count": null,
   "metadata": {},
   "outputs": [],
   "source": [
    "df.reset_index(inplace=True)"
   ]
  },
  {
   "cell_type": "code",
   "execution_count": null,
   "metadata": {},
   "outputs": [],
   "source": [
    "OUT_PATH = './DATA/'\n",
    "\n",
    "df.to_csv(OUT_PATH + 'aisixiang_full.csv', index = False)"
   ]
  }
 ],
 "metadata": {
  "kernelspec": {
   "display_name": "sab23_venv",
   "language": "python",
   "name": "python3"
  },
  "language_info": {
   "codemirror_mode": {
    "name": "ipython",
    "version": 3
   },
   "file_extension": ".py",
   "mimetype": "text/x-python",
   "name": "python",
   "nbconvert_exporter": "python",
   "pygments_lexer": "ipython3",
   "version": "3.11.10"
  },
  "orig_nbformat": 4,
  "vscode": {
   "interpreter": {
    "hash": "dd6019e8828702d449dd1edc6815b57e81d872b85877b104edbd3f1715bde4b1"
   }
  }
 },
 "nbformat": 4,
 "nbformat_minor": 2
}
